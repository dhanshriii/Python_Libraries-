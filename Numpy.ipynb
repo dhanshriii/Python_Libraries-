{
  "nbformat": 4,
  "nbformat_minor": 0,
  "metadata": {
    "colab": {
      "provenance": []
    },
    "kernelspec": {
      "name": "python3",
      "display_name": "Python 3"
    },
    "language_info": {
      "name": "python"
    }
  },
  "cells": [
    {
      "cell_type": "code",
      "execution_count": null,
      "metadata": {
        "colab": {
          "base_uri": "https://localhost:8080/"
        },
        "id": "VfLf7My0pLCv",
        "outputId": "c0bb54c2-b846-41c1-d598-dc61e4bba62d"
      },
      "outputs": [
        {
          "output_type": "stream",
          "name": "stdout",
          "text": [
            "Requirement already satisfied: numpy in /usr/local/lib/python3.10/dist-packages (1.26.4)\n"
          ]
        }
      ],
      "source": [
        "!pip install numpy"
      ]
    },
    {
      "cell_type": "code",
      "source": [
        "import numpy as np"
      ],
      "metadata": {
        "id": "NGPgdAmLp1zG"
      },
      "execution_count": null,
      "outputs": []
    },
    {
      "cell_type": "code",
      "source": [
        "arr = np.array([1,2,3,4])"
      ],
      "metadata": {
        "id": "z2er8DeNqzBI"
      },
      "execution_count": null,
      "outputs": []
    },
    {
      "cell_type": "code",
      "source": [
        "print(arr)"
      ],
      "metadata": {
        "colab": {
          "base_uri": "https://localhost:8080/"
        },
        "id": "cVFVEosZq3ID",
        "outputId": "e92ab035-819c-44c1-86f1-173aa96e45a2"
      },
      "execution_count": null,
      "outputs": [
        {
          "output_type": "stream",
          "name": "stdout",
          "text": [
            "[1 2 3 4]\n"
          ]
        }
      ]
    },
    {
      "cell_type": "code",
      "source": [
        "## Introduction to Numpy\n",
        "\"\"\"\n",
        "numerical python library => Used for Scientific Computing, Data analysis, and numerical Computing Tasks.\n",
        "Data Structures\n",
        "List => [] -> Contains Heterogeneous Data\n",
        "array => In numpy an array is an fundamental object - > used to store homogeneous data\n",
        "array vs List\n",
        "- In array Same data types elements || In list different types of data types can be stored stored.\n",
        "- the array elements are stored in Contigeous Memory location || List is not stored in contigeous memory location\n",
        "- arrays are static and cannot be resized || List can be resized\n",
        "- array takes less space in memory || List takes more space in the memory\n",
        "\n",
        "\"\"\""
      ],
      "metadata": {
        "id": "oYySaXzhq4Ch"
      },
      "execution_count": null,
      "outputs": []
    },
    {
      "cell_type": "code",
      "source": [
        "# 1D (1 dimentional array)\n",
        "arr1 = np.array([1,2,3])\n",
        "print(arr1)"
      ],
      "metadata": {
        "colab": {
          "base_uri": "https://localhost:8080/"
        },
        "id": "9ibttm87ti_X",
        "outputId": "a58db7cf-16c2-46ba-b19d-c8309e97a107"
      },
      "execution_count": null,
      "outputs": [
        {
          "output_type": "stream",
          "name": "stdout",
          "text": [
            "[1 2 3]\n"
          ]
        }
      ]
    },
    {
      "cell_type": "code",
      "source": [
        "l1 = [1,2,3]\n",
        "l2 = [4,5,6]"
      ],
      "metadata": {
        "id": "HA9WAFBtudAB"
      },
      "execution_count": null,
      "outputs": []
    },
    {
      "cell_type": "code",
      "source": [
        "print(l1+l2)"
      ],
      "metadata": {
        "colab": {
          "base_uri": "https://localhost:8080/"
        },
        "id": "RLkyM6nJufIf",
        "outputId": "07725188-d1da-42d6-c9c4-7e17305b6536"
      },
      "execution_count": null,
      "outputs": [
        {
          "output_type": "stream",
          "name": "stdout",
          "text": [
            "[1, 2, 3, 4, 5, 6]\n"
          ]
        }
      ]
    },
    {
      "cell_type": "code",
      "source": [
        "arr1 = np.array([1,2,3])\n",
        "arr2 = np.array([4,5,6])"
      ],
      "metadata": {
        "id": "7OCMVe4Hui-N"
      },
      "execution_count": null,
      "outputs": []
    },
    {
      "cell_type": "code",
      "source": [
        "print(arr1 + arr2)"
      ],
      "metadata": {
        "colab": {
          "base_uri": "https://localhost:8080/"
        },
        "id": "buqH-bCmwB9w",
        "outputId": "ab8f1c60-525a-41fc-f110-40909307bbf1"
      },
      "execution_count": null,
      "outputs": [
        {
          "output_type": "stream",
          "name": "stdout",
          "text": [
            "[5 7 9]\n"
          ]
        }
      ]
    },
    {
      "cell_type": "code",
      "source": [
        "# 2D array"
      ],
      "metadata": {
        "id": "jfYTErnfwDpT"
      },
      "execution_count": null,
      "outputs": []
    },
    {
      "cell_type": "code",
      "source": [
        "arr2 = np.array([[1,2,3],[4,5,6]])\n",
        "print(arr2)"
      ],
      "metadata": {
        "colab": {
          "base_uri": "https://localhost:8080/"
        },
        "id": "DBxamz0bwHxe",
        "outputId": "ff1e169a-1ab0-4553-fc0f-64fcc859a42f"
      },
      "execution_count": null,
      "outputs": [
        {
          "output_type": "stream",
          "name": "stdout",
          "text": [
            "[[1 2 3]\n",
            " [4 5 6]]\n"
          ]
        }
      ]
    },
    {
      "cell_type": "code",
      "source": [
        "#3D array"
      ],
      "metadata": {
        "id": "ruEdRkBwwSU3"
      },
      "execution_count": null,
      "outputs": []
    },
    {
      "cell_type": "code",
      "source": [
        "arr3 = np.array([[[1,2,3],[4,5,6]]])\n",
        "print(arr3)"
      ],
      "metadata": {
        "colab": {
          "base_uri": "https://localhost:8080/"
        },
        "id": "FTxTX8PQwWXn",
        "outputId": "131c0c1c-9967-4759-9c64-33111af379ca"
      },
      "execution_count": null,
      "outputs": [
        {
          "output_type": "stream",
          "name": "stdout",
          "text": [
            "[[[1 2 3]\n",
            "  [4 5 6]]]\n"
          ]
        }
      ]
    },
    {
      "cell_type": "code",
      "source": [
        "## Array Attributes : In attributes we dont have parenthesis\n",
        "'''\n",
        "- shape : Gives the dimention of the array\n",
        "'''\n",
        "print(arr1.shape)\n",
        "#The out put indicates that arr1 is a 1D array with 3 elements\n",
        "#The shape (3,) tells that there is only 1 dimention with length of 3.\n"
      ],
      "metadata": {
        "colab": {
          "base_uri": "https://localhost:8080/"
        },
        "id": "suXXtGc7wb8T",
        "outputId": "5ffc2665-0f3d-440c-ff29-0f2ea770a01f"
      },
      "execution_count": null,
      "outputs": [
        {
          "output_type": "stream",
          "name": "stdout",
          "text": [
            "(3,)\n"
          ]
        }
      ]
    },
    {
      "cell_type": "code",
      "source": [
        "print(arr3.shape)\n",
        "## The output indicates that"
      ],
      "metadata": {
        "colab": {
          "base_uri": "https://localhost:8080/"
        },
        "id": "MFlF0gM0wnTn",
        "outputId": "a87fe861-d5b6-4876-e038-9d8fefeadf7e"
      },
      "execution_count": null,
      "outputs": [
        {
          "output_type": "stream",
          "name": "stdout",
          "text": [
            "(1, 2, 3)\n"
          ]
        }
      ]
    },
    {
      "cell_type": "code",
      "source": [
        "# Size : Total number of elements\n",
        "print(arr3.size)"
      ],
      "metadata": {
        "colab": {
          "base_uri": "https://localhost:8080/"
        },
        "id": "AuMia9oUxyyL",
        "outputId": "b82ff26b-56d1-449e-c3ae-018c2385c7ed"
      },
      "execution_count": null,
      "outputs": [
        {
          "output_type": "stream",
          "name": "stdout",
          "text": [
            "6\n"
          ]
        }
      ]
    },
    {
      "cell_type": "code",
      "source": [
        "# ndim : number of array dimentions\n",
        "arr3 = np.array([[[1,2,3],[4,5,6]]])\n",
        "print(arr3.ndim)\n",
        "#This was 3 dimentional array do 3"
      ],
      "metadata": {
        "colab": {
          "base_uri": "https://localhost:8080/"
        },
        "id": "bevwQDmyx-dj",
        "outputId": "c1387dc9-3f9b-43d7-d46a-e6f8f0f550ff"
      },
      "execution_count": null,
      "outputs": [
        {
          "output_type": "stream",
          "name": "stdout",
          "text": [
            "3\n"
          ]
        }
      ]
    },
    {
      "cell_type": "code",
      "source": [
        "# dtype : Gives the data of the array\n",
        "print(arr3.dtype)\n"
      ],
      "metadata": {
        "colab": {
          "base_uri": "https://localhost:8080/"
        },
        "id": "-XbtirU-yLvK",
        "outputId": "094c0a24-55fd-4bf1-8234-b0a21bf530ac"
      },
      "execution_count": null,
      "outputs": [
        {
          "output_type": "stream",
          "name": "stdout",
          "text": [
            "int64\n"
          ]
        }
      ]
    },
    {
      "cell_type": "code",
      "source": [
        "\n",
        "#Accessing elements in array\n",
        "print(arr3[0,1])"
      ],
      "metadata": {
        "colab": {
          "base_uri": "https://localhost:8080/"
        },
        "id": "kmtRinsCymCE",
        "outputId": "8cd1abc2-f49e-4fbc-8e24-fa9308dabbc8"
      },
      "execution_count": null,
      "outputs": [
        {
          "output_type": "stream",
          "name": "stdout",
          "text": [
            "[4 5 6]\n"
          ]
        }
      ]
    },
    {
      "cell_type": "code",
      "source": [
        "##Slicing\n",
        "print(arr2[:1])"
      ],
      "metadata": {
        "colab": {
          "base_uri": "https://localhost:8080/"
        },
        "id": "ceNL6iPhzErU",
        "outputId": "b1c7e182-8d6f-4ab1-82ed-26df4b37a73b"
      },
      "execution_count": null,
      "outputs": [
        {
          "output_type": "stream",
          "name": "stdout",
          "text": [
            "[[1 2 3]]\n"
          ]
        }
      ]
    },
    {
      "cell_type": "code",
      "source": [
        "##Numpy array operations"
      ],
      "metadata": {
        "id": "XU3MIQkez9J6"
      },
      "execution_count": null,
      "outputs": []
    },
    {
      "cell_type": "code",
      "source": [
        "# Element wise operations\n",
        "arr = np.array([4,7,9])\n",
        "print(arr + 10)"
      ],
      "metadata": {
        "colab": {
          "base_uri": "https://localhost:8080/"
        },
        "id": "jZoAbqiJ0ASN",
        "outputId": "da2aff4d-a8a3-4356-b549-77f45dc88d3e"
      },
      "execution_count": null,
      "outputs": [
        {
          "output_type": "stream",
          "name": "stdout",
          "text": [
            "[14 17 19]\n"
          ]
        }
      ]
    },
    {
      "cell_type": "code",
      "source": [
        "print(arr * 10)"
      ],
      "metadata": {
        "colab": {
          "base_uri": "https://localhost:8080/"
        },
        "id": "my1dW64S0Tsm",
        "outputId": "896e590d-dcba-40a5-8d68-9c54015e7bc0"
      },
      "execution_count": null,
      "outputs": [
        {
          "output_type": "stream",
          "name": "stdout",
          "text": [
            "[40 70 90]\n"
          ]
        }
      ]
    },
    {
      "cell_type": "code",
      "source": [
        "## used if that specific operation is to be applied to all the elements in the array\n"
      ],
      "metadata": {
        "id": "C65oMafj0VIO"
      },
      "execution_count": null,
      "outputs": []
    },
    {
      "cell_type": "code",
      "source": [
        "## Matrix operations\n",
        "A = np.array([[1,2],[5,8]])\n",
        "B = np.array([[2,3],[2,9]])\n",
        "\n",
        "#Numpy allows matrix multiplication, Transpose\n",
        "print(np.dot(A,B))"
      ],
      "metadata": {
        "colab": {
          "base_uri": "https://localhost:8080/"
        },
        "id": "MVjBYHdC0iWT",
        "outputId": "b5e284f6-8793-4a41-f247-ac7517484991"
      },
      "execution_count": null,
      "outputs": [
        {
          "output_type": "stream",
          "name": "stdout",
          "text": [
            "[[ 6 21]\n",
            " [26 87]]\n"
          ]
        }
      ]
    },
    {
      "cell_type": "code",
      "source": [
        "# Matrix Transpose\n",
        "print(A.T)"
      ],
      "metadata": {
        "colab": {
          "base_uri": "https://localhost:8080/"
        },
        "id": "8sJAPZF-1KQd",
        "outputId": "61d5e919-c921-4ba6-87cb-c0bd52eb5abd"
      },
      "execution_count": null,
      "outputs": [
        {
          "output_type": "stream",
          "name": "stdout",
          "text": [
            "[[1 5]\n",
            " [2 8]]\n"
          ]
        }
      ]
    },
    {
      "cell_type": "code",
      "source": [
        "# Common numpy functions\n",
        "# arrange : Similar to python's range, but returns an array\n",
        "print(np.arange(1,10,2))\n",
        "#it gives same output as for loop range but in array"
      ],
      "metadata": {
        "colab": {
          "base_uri": "https://localhost:8080/"
        },
        "id": "4Jfe4GK22HLM",
        "outputId": "6faa219f-7a28-4dc7-8848-2cd83a64b173"
      },
      "execution_count": null,
      "outputs": [
        {
          "output_type": "stream",
          "name": "stdout",
          "text": [
            "[1 3 5 7 9]\n"
          ]
        }
      ]
    },
    {
      "cell_type": "code",
      "source": [
        "# linespace: Generates a specified number of evenly spaced values over an interval\n",
        "print(np.linspace(0,1,5))\n",
        "#Generates sequence of number (start, end, number of elements)\n"
      ],
      "metadata": {
        "colab": {
          "base_uri": "https://localhost:8080/"
        },
        "id": "x_SmkV1O2nP2",
        "outputId": "ac6f9bd6-08fb-47ca-ed71-4105fbbbb98a"
      },
      "execution_count": null,
      "outputs": [
        {
          "output_type": "stream",
          "name": "stdout",
          "text": [
            "[0.   0.25 0.5  0.75 1.  ]\n"
          ]
        }
      ]
    },
    {
      "cell_type": "code",
      "source": [
        "# Reshape : the reshape function changes the shpae of an array without changing its data\n",
        "arr = np.array([1,2,3,4,5,6,7,8,9,0])\n",
        "print(arr.reshape(2,5))\n"
      ],
      "metadata": {
        "colab": {
          "base_uri": "https://localhost:8080/"
        },
        "id": "mRjvx10t3Q2I",
        "outputId": "fa0e1521-c549-4cb7-fbd3-5573595d4415"
      },
      "execution_count": null,
      "outputs": [
        {
          "output_type": "stream",
          "name": "stdout",
          "text": [
            "[[1 2 3 4 5]\n",
            " [6 7 8 9 0]]\n"
          ]
        }
      ]
    },
    {
      "cell_type": "code",
      "source": [
        "## aggregate functions : sum, min, max, mean, etc\n",
        "arr = np.array([1,2,3,4,5,6,7,8,9,0])\n",
        "arr.sum()"
      ],
      "metadata": {
        "colab": {
          "base_uri": "https://localhost:8080/"
        },
        "id": "icWb55iZ4yln",
        "outputId": "74ca87db-2cd1-479b-8976-c13a9c65057a"
      },
      "execution_count": null,
      "outputs": [
        {
          "output_type": "execute_result",
          "data": {
            "text/plain": [
              "45"
            ]
          },
          "metadata": {},
          "execution_count": 57
        }
      ]
    },
    {
      "cell_type": "code",
      "source": [
        "arr.min()"
      ],
      "metadata": {
        "colab": {
          "base_uri": "https://localhost:8080/"
        },
        "id": "Mir1hZwg5JbL",
        "outputId": "a9acd3f4-f73e-4982-ac06-1ba86feed6a0"
      },
      "execution_count": null,
      "outputs": [
        {
          "output_type": "execute_result",
          "data": {
            "text/plain": [
              "0"
            ]
          },
          "metadata": {},
          "execution_count": 58
        }
      ]
    },
    {
      "cell_type": "code",
      "source": [
        "arr.mean()"
      ],
      "metadata": {
        "colab": {
          "base_uri": "https://localhost:8080/"
        },
        "id": "Xd5lR3T85KVi",
        "outputId": "0a221277-6a30-45c4-fb5f-d28f62ac7c54"
      },
      "execution_count": null,
      "outputs": [
        {
          "output_type": "execute_result",
          "data": {
            "text/plain": [
              "4.5"
            ]
          },
          "metadata": {},
          "execution_count": 59
        }
      ]
    },
    {
      "cell_type": "code",
      "source": [
        "print(np.median(arr))"
      ],
      "metadata": {
        "colab": {
          "base_uri": "https://localhost:8080/"
        },
        "id": "opXeUTUz5LH-",
        "outputId": "0b5cc6f8-39ff-4462-ac73-00b3bc36ee58"
      },
      "execution_count": null,
      "outputs": [
        {
          "output_type": "stream",
          "name": "stdout",
          "text": [
            "4.5\n"
          ]
        }
      ]
    },
    {
      "cell_type": "code",
      "source": [
        "#In numpy we dont have attribute for mode\n",
        "#We import external library\n",
        "from scipy import stats\n",
        "print(stats.mode(arr))"
      ],
      "metadata": {
        "colab": {
          "base_uri": "https://localhost:8080/"
        },
        "id": "7gJEObJf5WuC",
        "outputId": "986b4275-7e4a-4c24-b7fc-9726c32cce87"
      },
      "execution_count": null,
      "outputs": [
        {
          "output_type": "stream",
          "name": "stdout",
          "text": [
            "ModeResult(mode=0, count=1)\n"
          ]
        }
      ]
    },
    {
      "cell_type": "code",
      "source": [
        "## Beoadcasting\n",
        "#Numpy broadcasting allows for arithmetic operations on arrays of different shapes and sizes,\n",
        "#where one arrays dimensions are adjusted to match the others"
      ],
      "metadata": {
        "id": "f3mWVz616zCN"
      },
      "execution_count": null,
      "outputs": []
    },
    {
      "cell_type": "code",
      "source": [
        "arr1 = np.array([1,2,3])\n",
        "arr2 = np.array([[1],[2],[3]])\n",
        "print(arr1+arr2)"
      ],
      "metadata": {
        "colab": {
          "base_uri": "https://localhost:8080/"
        },
        "id": "yMYvtEQz7Ju6",
        "outputId": "56118e06-4a6f-4892-acd6-9106fe738943"
      },
      "execution_count": null,
      "outputs": [
        {
          "output_type": "stream",
          "name": "stdout",
          "text": [
            "[[2 3 4]\n",
            " [3 4 5]\n",
            " [4 5 6]]\n"
          ]
        }
      ]
    },
    {
      "cell_type": "code",
      "source": [
        "# Random number with NumPy\n",
        "print(np.random.randint(0,10,size = (3,3)))  #Size -> number of rows and columns"
      ],
      "metadata": {
        "colab": {
          "base_uri": "https://localhost:8080/"
        },
        "id": "cquBeTBh7eaF",
        "outputId": "b2711085-6117-43f0-aef7-852deeb88278"
      },
      "execution_count": null,
      "outputs": [
        {
          "output_type": "stream",
          "name": "stdout",
          "text": [
            "[[1 8 3]\n",
            " [7 5 7]\n",
            " [0 5 4]]\n"
          ]
        }
      ]
    },
    {
      "cell_type": "code",
      "source": [
        "print(np.random.rand(3,3))"
      ],
      "metadata": {
        "colab": {
          "base_uri": "https://localhost:8080/"
        },
        "id": "SgULMZ-z8L1X",
        "outputId": "28e39171-683f-4cd4-c1ff-72dea48e4d34"
      },
      "execution_count": null,
      "outputs": [
        {
          "output_type": "stream",
          "name": "stdout",
          "text": [
            "[[0.75770191 0.48983614 0.98226705]\n",
            " [0.27336746 0.49677722 0.9144005 ]\n",
            " [0.97984107 0.48633057 0.85884217]]\n"
          ]
        }
      ]
    },
    {
      "cell_type": "code",
      "source": [
        "print(np.random.randn(3,3))"
      ],
      "metadata": {
        "colab": {
          "base_uri": "https://localhost:8080/"
        },
        "id": "owbJDKfi8X_l",
        "outputId": "709c93fa-6f7b-4168-c074-66521942e7fb"
      },
      "execution_count": null,
      "outputs": [
        {
          "output_type": "stream",
          "name": "stdout",
          "text": [
            "[[-1.09127991  0.71405236  0.80518023]\n",
            " [ 0.23459422 -1.12443456  0.62654772]\n",
            " [ 0.42401996  0.25456706 -0.17032511]]\n"
          ]
        }
      ]
    },
    {
      "cell_type": "code",
      "source": [],
      "metadata": {
        "id": "S0YlOyHz8h9B"
      },
      "execution_count": null,
      "outputs": []
    }
  ]
}